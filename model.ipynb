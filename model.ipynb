{
 "cells": [
  {
   "cell_type": "code",
   "execution_count": 1,
   "metadata": {},
   "outputs": [],
   "source": [
    "import pandas as pd\n",
    "import numpy as np\n",
    "import torch"
   ]
  },
  {
   "cell_type": "code",
   "execution_count": 3,
   "metadata": {},
   "outputs": [],
   "source": [
    "df = pd.read_csv(\"data/transformed/df.csv\")\n",
    "reviews_scraped = pd.read_csv(\"data/transformed/reviews_scraped.csv\")\n",
    "products_scraped = pd.read_csv(\"data/transformed/products_scraped.csv\")"
   ]
  },
  {
   "cell_type": "code",
   "execution_count": null,
   "metadata": {},
   "outputs": [],
   "source": [
    "device = torch.device('cuda' if torch.cuda.is_available() else 'cpu')"
   ]
  },
  {
   "cell_type": "code",
   "execution_count": null,
   "metadata": {},
   "outputs": [],
   "source": [
    "class OurModelParameters():\n",
    "    def __init__(self):\n",
    "        pass\n",
    "\n",
    "class OurModel(torch.nn.Module):\n",
    "\n",
    "    def __init__(self, parameters: OurModelParameters):\n",
    "        pass\n",
    "\n",
    "    def forward(self, row_in_fake_real_products_df):\n",
    "        \"\"\"\"\n",
    "            row_in_fake_real_products_df is a df with the following columns:\n",
    "                - product_title\n",
    "                - review_title\n",
    "                - rating1, rating2, rating3, rating4, rating5 (the percentages of ratings from each brackets, as values between 0.0 and 1.0)\n",
    "                - \n",
    "        \"\"\"\n",
    "        pass\n",
    "        "
   ]
  },
  {
   "cell_type": "code",
   "execution_count": null,
   "metadata": {},
   "outputs": [],
   "source": [
    "from transformers import BertTokenizerFast, Automodel\n",
    "\n",
    "bert = AutoModel.from_pretrained('bert-base-uncased')\n",
    "tokenizer = BertTokenizerFast.from_pretrained('bert-base-uncased')"
   ]
  },
  {
   "cell_type": "code",
   "execution_count": 4,
   "metadata": {},
   "outputs": [],
   "source": [
    "def tokenize_ds(train, val, test, prop = 'REVIEW_TEXT'):\n",
    "    #This function takes one of the text properties of the dataset and produces an object of\n",
    "    # type transformers.tokenization_utils_base.BatchEncoding, which is then used for producing\n",
    "    # attention masks.\n",
    "\n",
    "    max_seq_len = 512\n",
    "        \n",
    "    # tokenize and encode sequences in the training set\n",
    "    tokens_train_review = tokenizer.batch_encode_plus(\n",
    "        train[prop].tolist(),\n",
    "        max_length = max_seq_len,\n",
    "        pad_to_max_length=True,\n",
    "        truncation=True,\n",
    "        return_token_type_ids=False\n",
    "    )\n",
    "\n",
    "    # tokenize and encode sequences in the validation set\n",
    "    tokens_val_review = tokenizer.batch_encode_plus(\n",
    "        val[prop].tolist(),\n",
    "        max_length = max_seq_len,\n",
    "        pad_to_max_length=True,\n",
    "        truncation=True,\n",
    "        return_token_type_ids=False\n",
    "    )\n",
    "\n",
    "    # tokenize and encode sequences in the test set\n",
    "    tokens_test_review = tokenizer.batch_encode_plus(\n",
    "        test[prop].tolist(),\n",
    "        max_length = max_seq_len,\n",
    "        pad_to_max_length=True,\n",
    "        truncation=True,\n",
    "        return_token_type_ids=False\n",
    "    )\n",
    "\n",
    "    return tokens_train_review, tokens_val_review, tokens_test_review\n"
   ]
  },
  {
   "cell_type": "code",
   "execution_count": null,
   "metadata": {},
   "outputs": [],
   "source": []
  }
 ],
 "metadata": {
  "kernelspec": {
   "display_name": "base",
   "language": "python",
   "name": "python3"
  },
  "language_info": {
   "codemirror_mode": {
    "name": "ipython",
    "version": 3
   },
   "file_extension": ".py",
   "mimetype": "text/x-python",
   "name": "python",
   "nbconvert_exporter": "python",
   "pygments_lexer": "ipython3",
   "version": "3.9.12"
  },
  "orig_nbformat": 4,
  "vscode": {
   "interpreter": {
    "hash": "780e02f01b3ae00d5e97f14df45fcdece40e9a09f09f224add9952588133a4cb"
   }
  }
 },
 "nbformat": 4,
 "nbformat_minor": 2
}
