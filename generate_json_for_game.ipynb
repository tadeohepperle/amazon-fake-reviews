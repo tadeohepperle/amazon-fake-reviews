{
 "cells": [
  {
   "cell_type": "code",
   "execution_count": 10,
   "metadata": {},
   "outputs": [
    {
     "name": "stdout",
     "output_type": "stream",
     "text": [
      "The blackcellmagic extension is already loaded. To reload it, use:\n",
      "  %reload_ext blackcellmagic\n"
     ]
    }
   ],
   "source": [
    "import pandas as pd\n",
    "import numpy as np\n",
    "import json\n",
    "import random\n",
    "%load_ext blackcellmagic"
   ]
  },
  {
   "cell_type": "code",
   "execution_count": 11,
   "metadata": {},
   "outputs": [],
   "source": [
    "df = pd.read_csv(\n",
    "    \"data/transformed/df.csv\",\n",
    "    dtype={\n",
    "        \"product_title\": str,\n",
    "        \"review_title\": str,\n",
    "        \"review_text\": str,\n",
    "        \"product_id\": str,\n",
    "    },\n",
    ")\n",
    "reviews_scraped = pd.read_csv(\n",
    "    \"data/transformed/reviews_scraped.csv\",\n",
    "    dtype={\"review_title\": str, \"review_text\": str, \"product_id\": str},\n",
    ")"
   ]
  },
  {
   "cell_type": "code",
   "execution_count": 12,
   "metadata": {},
   "outputs": [],
   "source": [
    "fake = []\n",
    "real = []\n",
    "NUM = 200\n",
    "for _, row in df.iterrows():\n",
    "    if len(fake) >= NUM & len(real) > NUM:\n",
    "        break\n",
    "    if row[\"label\"] == 1.0 and len(fake) > NUM:\n",
    "        continue\n",
    "    if row[\"label\"] == 0.0 and len(real) > NUM:\n",
    "        continue    \n",
    "    m = dict()\n",
    "    if (\n",
    "        np.isnan(row[\"rating_avg\"])\n",
    "        or np.isnan(row[\"rating_count\"])\n",
    "        or np.isnan(row[\"rating1\"])\n",
    "        or np.isnan(row[\"rating2\"])\n",
    "        or np.isnan(row[\"rating3\"])\n",
    "        or np.isnan(row[\"rating4\"])\n",
    "        or np.isnan(row[\"rating5\"])\n",
    "    ):\n",
    "        continue\n",
    "    pr_id = row[\"product_id\"]\n",
    "    m[\"product_id\"] = pr_id\n",
    "    m[\"product_title\"] = row[\"product_title\"]\n",
    "    m[\"review_title\"] = row[\"review_title\"]\n",
    "    m[\"review_text\"] = (\n",
    "        row[\"review_text\"]\n",
    "        if len(row[\"review_text\"]) < 500\n",
    "        else row[\"review_text\"][0:500] + \"...\"\n",
    "    )\n",
    "    m[\"category\"] = row[\"PRODUCT_CATEGORY\"]\n",
    "    m[\"rating\"] = row[\"rating\"]\n",
    "    m[\"verified\"] = row[\"verified\"]\n",
    "    m[\"rating_avg\"] = row[\"rating_avg\"]\n",
    "    m[\"rating_count\"] = row[\"rating_count\"]\n",
    "    m[\"rating1\"] = row[\"rating1\"]\n",
    "    m[\"rating2\"] = row[\"rating2\"]\n",
    "    m[\"rating3\"] = row[\"rating3\"]\n",
    "    m[\"rating4\"] = row[\"rating4\"]\n",
    "    m[\"rating5\"] = row[\"rating5\"]\n",
    "    m[\"label\"] = row[\"label\"]\n",
    "    m[\"prediction\"] = row[\"label\"] if random.random() > 0.2 else row[\"label\"] * -1 + 1\n",
    "    others = []\n",
    "    # find all matching reviews:\n",
    "    for _, r in reviews_scraped[reviews_scraped[\"product_id\"] == pr_id].iterrows():\n",
    "        if type(r[\"review_text\"]) == float or type(r[\"review_title\"]) == float:\n",
    "            continue\n",
    "        mm = dict()\n",
    "        mm[\"review_title\"] = r[\"review_title\"]\n",
    "        # print(r[\"review_text\"])\n",
    "        mm[\"review_text\"] = (\n",
    "            r[\"review_text\"]\n",
    "            if len(r[\"review_text\"]) < 500\n",
    "            else r[\"review_text\"][0:500] + \"...\"\n",
    "        )\n",
    "        if not np.isnan(r[\"helpful\"]):\n",
    "            mm[\"helpful\"] = r[\"helpful\"]\n",
    "        mm[\"verified\"] = r[\"verified\"]\n",
    "        mm[\"rating\"] = r[\"rating\"]\n",
    "        others.append(mm)\n",
    "    m[\"other_reviews\"] = others\n",
    "    if m[\"label\"] == 1.0:\n",
    "        fake.append(m)\n",
    "    else:\n",
    "        real.append(m)\n",
    "    \n",
    "both = real + fake\n",
    "random.shuffle(both)\n",
    "f = open(\"game/public/data.json\", \"w+\")\n",
    "f.write(json.dumps(both))\n",
    "f.close()"
   ]
  }
 ],
 "metadata": {
  "kernelspec": {
   "display_name": "base",
   "language": "python",
   "name": "python3"
  },
  "language_info": {
   "codemirror_mode": {
    "name": "ipython",
    "version": 3
   },
   "file_extension": ".py",
   "mimetype": "text/x-python",
   "name": "python",
   "nbconvert_exporter": "python",
   "pygments_lexer": "ipython3",
   "version": "3.9.12"
  },
  "orig_nbformat": 4,
  "vscode": {
   "interpreter": {
    "hash": "780e02f01b3ae00d5e97f14df45fcdece40e9a09f09f224add9952588133a4cb"
   }
  }
 },
 "nbformat": 4,
 "nbformat_minor": 2
}
